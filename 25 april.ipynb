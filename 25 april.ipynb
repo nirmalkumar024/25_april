{
 "cells": [
  {
   "cell_type": "markdown",
   "id": "bd329509-6caa-4897-a294-9896873c8783",
   "metadata": {},
   "source": [
    "Q1. What are Eigenvalues and Eigenvectors? How are they related to the Eigen-Decomposition approach?\n",
    "Explain with an example."
   ]
  },
  {
   "cell_type": "markdown",
   "id": "375e2493-1b05-4078-967d-2d8c103ff952",
   "metadata": {},
   "source": [
    "Eigenvalues are the special set of scalar values that is associated with the set of linear equations most probably in the matrix equations, The eigenvectors are also termed as characteristic roots. It is a non-zero vector that can be changed at most by its scalar factor after the application of linear transformations.\n",
    "\n",
    " the factorization of a matrix into a canonical form, whereby the matrix is represented in terms of its eigenvalues and eigenvectors"
   ]
  },
  {
   "cell_type": "markdown",
   "id": "7ed35352-3594-464c-9deb-9b02f0c4c27c",
   "metadata": {},
   "source": [
    "Q2. What is eigen decomposition and what is its significance in linear algebra?"
   ]
  },
  {
   "cell_type": "markdown",
   "id": "e6b18bf6-525f-449d-b4d4-62e5fb790119",
   "metadata": {},
   "source": [
    "In linear algebra, eigendecomposition is the factorization of a matrix into a canonical form, whereby the matrix is represented in terms of its eigenvalues and eigenvectors. Only diagonalizable matrices can be factorized in this way"
   ]
  },
  {
   "cell_type": "markdown",
   "id": "04f5b9cd-9ac1-4c7d-a878-e02f0b61752e",
   "metadata": {},
   "source": [
    "Q3. What are the conditions that must be satisfied for a square matrix to be diagonalizable using the\n",
    "Eigen-Decomposition approach? Provide a brief proof to support your answer."
   ]
  },
  {
   "cell_type": "markdown",
   "id": "77466ad5-31e9-4d59-a430-cf2c2cddd12f",
   "metadata": {},
   "source": [
    " A square matrix A is diagonalizable if A is similar to a diagonal matrix. This means A = PDP−1 for some invertible P and diagonal D, with all matrices being n × n. An n × n matrix A is diagonalizable if and only if A has n linearly independent eigenvectors."
   ]
  },
  {
   "cell_type": "markdown",
   "id": "09304a0e-bbd4-45ae-9914-02774b5716c8",
   "metadata": {},
   "source": [
    "Q4. What is the significance of the spectral theorem in the context of the Eigen-Decomposition approach?\n",
    "How is it related to the diagonalizability of a matrix? Explain with an example."
   ]
  },
  {
   "cell_type": "markdown",
   "id": "32d97b73-dfbf-4553-9019-a79c14a4dd41",
   "metadata": {},
   "source": [
    "(possibly not distinct) eigenvalues, and they are all real; further, that the associated eigenvectors can be chosen so as to form an orthonormal basis. The result offers a simple way to decompose the symmetric matrix as a product of simple transformations."
   ]
  },
  {
   "cell_type": "markdown",
   "id": "f3b16a65-27e3-4032-b2c4-841f09517a06",
   "metadata": {},
   "source": [
    "Q5. How do you find the eigenvalues of a matrix and what do they represent?"
   ]
  },
  {
   "cell_type": "markdown",
   "id": "d5d9d1c4-030c-46b6-bc65-9679f24b1d73",
   "metadata": {},
   "source": [
    "In order to find the eigenvalues of a matrix, follow the steps below:-\n",
    "\n",
    "Step 1: Make sure the given matrix A is a square matrix.\n",
    "Step 2: Estimate the matrix A – λI, where λ is a scalar quantity.\n",
    "Step 3: Find the determinant of matrix A – λI and equate it to zero"
   ]
  },
  {
   "cell_type": "markdown",
   "id": "1e14e40c-3727-4653-a4fb-d9dec5026040",
   "metadata": {},
   "source": [
    "Q6. What are eigenvectors and how are they related to eigenvalues?"
   ]
  },
  {
   "cell_type": "markdown",
   "id": "4c6069c0-50b4-4e64-aad4-581621575b23",
   "metadata": {},
   "source": [
    "Eigenvalues are the special set of scalar values that is associated with the set of linear equations most probably in the matrix equations. The eigenvectors are also termed as characteristic roots. It is a non-zero vector that can be changed at most by its scalar factor after the application of linear transformations."
   ]
  },
  {
   "cell_type": "markdown",
   "id": "a78e2c08-feb8-43e4-abdf-0ce8506befdd",
   "metadata": {},
   "source": [
    "Q7. Can you explain the geometric interpretation of eigenvectors and eigenvalues?"
   ]
  },
  {
   "cell_type": "markdown",
   "id": "80e9a2d2-decc-46db-8b9c-0e5c0e464e3a",
   "metadata": {},
   "source": [
    "Geometrically, vectors are multi-dimensional quantities with magnitude and direction, often pictured as arrows. A linear transformation rotates, stretches, or shears the vectors upon which it acts. Its eigenvectors are those vectors that are only stretched, with no rotation or shear."
   ]
  },
  {
   "cell_type": "markdown",
   "id": "342d759f-f698-44ef-8dc9-4cedb89a1646",
   "metadata": {},
   "source": [
    "Q8. What are some real-world applications of eigen decomposition?"
   ]
  },
  {
   "cell_type": "markdown",
   "id": "073e55c4-60c1-4f04-aa35-0d22e2a319cf",
   "metadata": {},
   "source": [
    "The frequencies at which a drum or guitar or string instrument vibrates are the square roots of the eigenvalues of the Laplace operator. The frequencies at which a building or bridge sways are the square roots of the eigenvalues of the linear elasticity operator."
   ]
  },
  {
   "cell_type": "markdown",
   "id": "0627887f-8f56-4be5-baf2-20381f7ebd91",
   "metadata": {},
   "source": [
    "Q9. Can a matrix have more than one set of eigenvectors and eigenvalues?"
   ]
  },
  {
   "cell_type": "markdown",
   "id": "64be06f4-b4ac-4fcf-a887-ed42cf11acf5",
   "metadata": {},
   "source": [
    "Yes, a matrix can have multiple eigenvectors associated with the same eigenvalue. This is because an eigenvalue represents a scalar factor that stretches or compresses the eigenvector, so any scalar multiple of the eigenvector is also an eigenvector for that eigenvalue.\n"
   ]
  },
  {
   "cell_type": "code",
   "execution_count": null,
   "id": "d2230b57-dd13-4d44-8e2a-da19e81f38f2",
   "metadata": {},
   "outputs": [],
   "source": []
  }
 ],
 "metadata": {
  "kernelspec": {
   "display_name": "Python 3 (ipykernel)",
   "language": "python",
   "name": "python3"
  },
  "language_info": {
   "codemirror_mode": {
    "name": "ipython",
    "version": 3
   },
   "file_extension": ".py",
   "mimetype": "text/x-python",
   "name": "python",
   "nbconvert_exporter": "python",
   "pygments_lexer": "ipython3",
   "version": "3.10.8"
  }
 },
 "nbformat": 4,
 "nbformat_minor": 5
}
